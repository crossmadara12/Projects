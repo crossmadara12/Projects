{
 "cells": [
  {
   "cell_type": "code",
   "execution_count": null,
   "metadata": {},
   "outputs": [],
   "source": [
    "\"\"\"\n",
    "Calculate the total cost of tile\n",
    "it would take to cover a floor plan of width and height\n",
    "using a cost entered by the user\n",
    "\"\"\"\n",
    "def cost_to_cover(width, length, cost):\n",
    "    \n",
    "    print(f'\\nThe cost of tile on a {width} x {length} floor is ${width * length * cost}')\n",
    "    \n",
    "def main():\n",
    "    \n",
    "    while True:\n",
    "        \n",
    "        try:\n",
    "            width = float(input('Width of floor: '))\n",
    "            length = float(input('Length of floor: '))\n",
    "            cost = float(input('Cost of tile: '))\n",
    "            \n",
    "            cost_to_cover(width, length, cost)\n",
    "        \n",
    "        except:\n",
    "            \n",
    "            print('Wrong format!')\n",
    "            continue\n",
    "        \n",
    "        else:\n",
    "            break\n",
    "\n",
    "if __name__== '__main__':\n",
    "    main()      "
   ]
  }
 ],
 "metadata": {
  "kernelspec": {
   "display_name": "Python 3",
   "language": "python",
   "name": "python3"
  },
  "language_info": {
   "codemirror_mode": {
    "name": "ipython",
    "version": 3
   },
   "file_extension": ".py",
   "mimetype": "text/x-python",
   "name": "python",
   "nbconvert_exporter": "python",
   "pygments_lexer": "ipython3",
   "version": "3.7.3"
  }
 },
 "nbformat": 4,
 "nbformat_minor": 2
}
