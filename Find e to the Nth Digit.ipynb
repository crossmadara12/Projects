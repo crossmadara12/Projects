{
 "cells": [
  {
   "cell_type": "code",
   "execution_count": null,
   "metadata": {},
   "outputs": [],
   "source": [
    "#best solution\n",
    "import decimal\n",
    "\n",
    "\n",
    "def factorial(n):\n",
    "    factorials = [1]\n",
    "    for i in range(1, n + 1):\n",
    "        factorials.append(factorials[i - 1] * i)\n",
    "    return factorials\n",
    "\n",
    "\n",
    "def compute_e(n):\n",
    "    decimal.getcontext().prec = n + 1\n",
    "    e = 2\n",
    "    factorials = factorial(2 * n + 1)\n",
    "    for i in range(1, n + 1):\n",
    "        counter = 2 * i + 2\n",
    "        denominator = factorials[2 * i + 1]\n",
    "        e += decimal.Decimal(counter / denominator)\n",
    "    return e\n",
    "\n",
    "\n",
    "while True:\n",
    "    n = int(input(\"Please type number between 0-1000: \"))\n",
    "    if n >= 0 and n <= 1000:\n",
    "        break\n",
    "\n",
    "print(str(compute_e(n))[:n + 1])"
   ]
  },
  {
   "cell_type": "code",
   "execution_count": null,
   "metadata": {},
   "outputs": [],
   "source": [
    "#mine\n",
    "from math import e\n",
    "\n",
    "def nth_digit_e():\n",
    "    \n",
    "    print('*Find e to the Nth digit*\\n')\n",
    "    \n",
    "    number = 0\n",
    "    \n",
    "    while True:\n",
    "        number = int(input('Please, enter a number between 1-15: '))\n",
    "        \n",
    "        if number not in range(1,16):\n",
    "            print('Invalid number!')\n",
    "            continue\n",
    "        \n",
    "        else:\n",
    "            print(f'\\ne rounded to {number} decimal places is {round(e, number)}')\n",
    "            break\n",
    "\n",
    "nth_digit_e()"
   ]
  }
 ],
 "metadata": {
  "kernelspec": {
   "display_name": "Python 3",
   "language": "python",
   "name": "python3"
  },
  "language_info": {
   "codemirror_mode": {
    "name": "ipython",
    "version": 3
   },
   "file_extension": ".py",
   "mimetype": "text/x-python",
   "name": "python",
   "nbconvert_exporter": "python",
   "pygments_lexer": "ipython3",
   "version": "3.7.3"
  }
 },
 "nbformat": 4,
 "nbformat_minor": 2
}
