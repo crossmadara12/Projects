{
 "cells": [
  {
   "cell_type": "code",
   "execution_count": 3,
   "metadata": {},
   "outputs": [
    {
     "name": "stdout",
     "output_type": "stream",
     "text": [
      "Enter a integer: 75\n",
      "3\n",
      "5\n",
      "5\n",
      "None\n"
     ]
    }
   ],
   "source": [
    "import math \n",
    "\n",
    "def prime_factors(n): \n",
    "    \"\"\"\n",
    "    Print all prime factors\n",
    "    of a number size of n\n",
    "    \"\"\"\n",
    "    \n",
    "    while n % 2 == 0: # Print the number of two's that divide n \n",
    "        print(2) \n",
    "        n = n / 2\n",
    "          \n",
    "    for i in range(3,int(math.sqrt(n))+1,2): \n",
    "          \n",
    "        while n % i== 0: # while i divides n , print i and divide n \n",
    "            print(i) \n",
    "            n = n / i \n",
    "              \n",
    "    if n > 2: \n",
    "        print(n) \n",
    "        \n",
    "def main():\n",
    "    \n",
    "    print(prime_factors(int(input('Enter a integer: '))))\n",
    "\n",
    "if __name__ == '__main__':\n",
    "    main()"
   ]
  },
  {
   "cell_type": "code",
   "execution_count": null,
   "metadata": {},
   "outputs": [],
   "source": []
  }
 ],
 "metadata": {
  "kernelspec": {
   "display_name": "Python 3",
   "language": "python",
   "name": "python3"
  },
  "language_info": {
   "codemirror_mode": {
    "name": "ipython",
    "version": 3
   },
   "file_extension": ".py",
   "mimetype": "text/x-python",
   "name": "python",
   "nbconvert_exporter": "python",
   "pygments_lexer": "ipython3",
   "version": "3.7.3"
  }
 },
 "nbformat": 4,
 "nbformat_minor": 2
}
