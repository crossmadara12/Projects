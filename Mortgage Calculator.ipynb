{
 "cells": [
  {
   "cell_type": "code",
   "execution_count": null,
   "metadata": {},
   "outputs": [],
   "source": [
    "\"\"\"\n",
    "Calculate the monthly payments of a fixed term mortgage\n",
    "over given Nth terms at a given interest rate.\n",
    "And figuring out how long it will take the user to pay back the loan.\n",
    "\"\"\"\n",
    "\n",
    "def mortgage_calc(months, rate, loan):\n",
    "    \n",
    "    monthly_rate = rate / 100 / 12\n",
    "    payment = (monthly_rate / (1 - (1 + monthly_rate)**(-months))) * loan\n",
    "    \n",
    "    print(f'\\nMonthly payment for a {months} year mortgage at {rate} interest rate is: ${payment}')\n",
    "\n",
    "def main():\n",
    "    \n",
    "    while True:\n",
    "        \n",
    "        try:\n",
    "            \n",
    "            months = float(input('Enter mortgage term in months: '))\n",
    "            rate = float(input('Enter interest rate: '))\n",
    "            loan = float(input('Enter loan value: '))\n",
    "\n",
    "            mortgage_calc(months, rate, loan)\n",
    "        \n",
    "        except:\n",
    "            print('Invalid format!')\n",
    "            continue\n",
    "        else:\n",
    "            break\n",
    "\n",
    "if __name__ == '__main__':\n",
    "    main()"
   ]
  }
 ],
 "metadata": {
  "kernelspec": {
   "display_name": "Python 3",
   "language": "python",
   "name": "python3"
  },
  "language_info": {
   "codemirror_mode": {
    "name": "ipython",
    "version": 3
   },
   "file_extension": ".py",
   "mimetype": "text/x-python",
   "name": "python",
   "nbconvert_exporter": "python",
   "pygments_lexer": "ipython3",
   "version": "3.7.3"
  }
 },
 "nbformat": 4,
 "nbformat_minor": 2
}
