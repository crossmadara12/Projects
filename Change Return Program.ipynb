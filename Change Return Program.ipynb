{
 "cells": [
  {
   "cell_type": "code",
   "execution_count": null,
   "metadata": {},
   "outputs": [],
   "source": [
    "#change return program\n",
    "#the user enters a cost\n",
    "#and then the amount of money given.\n",
    "#The program will figure out the change and the number of \n",
    "#quarters, dimes, nickels, pennies needed for the change.\n",
    "\n",
    "def change_ret(money):\n",
    "    \n",
    "    deno = {'quarter': 0, 'dime': 0, 'nickel': 0, 'penny': 0}\n",
    "        \n",
    "    deno['quarter'] = int(money/0.25)\n",
    "    deno['dime'] = int((money % 0.25) / 0.10)\n",
    "    deno['nickel'] = int(((money % 0.25) % 0.10) / 0.05)\n",
    "    deno['penny'] = round((((money % 0.25) % 0.10) % 0.05) / 0.01)\n",
    "    \n",
    "    print(f\"\\nYour change is {deno.get('quarter')} quarter, {deno.get('dime')} penny, {deno.get('nickel')} nickel, {deno.get('penny')} penny.\")\n",
    "    \n",
    "def main():\n",
    "    \n",
    "    while True:\n",
    "        \n",
    "        try:\n",
    "            money = float(input('Enter your money(min 1$): '))\n",
    "        except:\n",
    "            print('Invalid format!')\n",
    "            continue\n",
    "        if money < 1:\n",
    "            print('Invalid amount!')\n",
    "            continue\n",
    "        else:\n",
    "          change_ret(money)\n",
    "          break\n",
    "\n",
    "if __name__ == '__main__':\n",
    "    main()\n",
    "            "
   ]
  },
  {
   "cell_type": "code",
   "execution_count": null,
   "metadata": {},
   "outputs": [],
   "source": [
    "#other solution\n",
    "import math\n",
    "\n",
    "def greedy_money_exchange(denom,amount):\n",
    "    i   = 0\n",
    "    used= [0]*len(denom)\n",
    "    while(amount>0):# go until all money gone\n",
    "        # get num of that denom to use, always round down\n",
    "        num     = math.floor(amount/denom[i]) \n",
    "        used[i] = num # say we've used it\n",
    "        amount  = amount-num*denom[i] # set new amount\n",
    "        i       = i + 1 # go to next denom\n",
    "    return used"
   ]
  }
 ],
 "metadata": {
  "kernelspec": {
   "display_name": "Python 3",
   "language": "python",
   "name": "python3"
  },
  "language_info": {
   "codemirror_mode": {
    "name": "ipython",
    "version": 3
   },
   "file_extension": ".py",
   "mimetype": "text/x-python",
   "name": "python",
   "nbconvert_exporter": "python",
   "pygments_lexer": "ipython3",
   "version": "3.7.3"
  }
 },
 "nbformat": 4,
 "nbformat_minor": 2
}
