{
 "cells": [
  {
   "cell_type": "code",
   "execution_count": null,
   "metadata": {},
   "outputs": [],
   "source": [
    "#ask the user to enter the cost and either a country or state tax\n",
    "#It returns the tax plus the total cost with tax\n",
    "\n",
    "country_sales_taxes = {'philippines':0.12, 'japan':0.10, 'sweden':0.25}\n",
    "\n",
    "\n",
    "def check_country(country):\n",
    "    return country.lower() in country_sales_taxes\n",
    "\n",
    "def total_cost(cost,country):\n",
    "    tax = country_sales_taxes.get(country)\n",
    "    return cost + (cost * tax)\n",
    "\n",
    "def adding_countries(country, tax):\n",
    "    country_sales_taxes.update(country = tax)\n",
    "\n",
    "def replay():\n",
    "    return input('Try again? y/n: ').lower().startswith('y')\n",
    "\n",
    "def main():\n",
    "    \n",
    "    while True:\n",
    "        try:\n",
    "            cost = int(input('Enter the cost: '))\n",
    "            country = input('Enter what country(e.g Philippines): ')\n",
    "        \n",
    "        except:\n",
    "            print('Unavaible country or wrong input')\n",
    "            continue\n",
    "        \n",
    "        if check_country(country):\n",
    "            ret = total_cost(cost,country)\n",
    "            print(f'The total cost of your purchase(plus taxes) is {ret}')\n",
    "        else:\n",
    "            print('This is not available in your country yet')\n",
    "            add_country = input('Do you wanna add your country in the list? y/n: ').lower().startswith('y')\n",
    "            \n",
    "            while add_country:\n",
    "                try:\n",
    "                    add_new_country = input('Enter the name of your country(make sure it follows our format): ')\n",
    "                    add_new_tax = float(input('Enter sales tax(e.g 0.12): '))\n",
    "                \n",
    "                except:\n",
    "                    print('Invalid input')\n",
    "                    continue\n",
    "                else:\n",
    "                    adding_countries(add_new_country, add_new_tax)\n",
    "                    print('Thank you!')\n",
    "                    break\n",
    "        \n",
    "        if not replay():\n",
    "            break\n",
    "\n",
    "if __name__ == '__main__':\n",
    "    main()"
   ]
  }
 ],
 "metadata": {
  "kernelspec": {
   "display_name": "Python 3",
   "language": "python",
   "name": "python3"
  },
  "language_info": {
   "codemirror_mode": {
    "name": "ipython",
    "version": 3
   },
   "file_extension": ".py",
   "mimetype": "text/x-python",
   "name": "python",
   "nbconvert_exporter": "python",
   "pygments_lexer": "ipython3",
   "version": "3.7.3"
  }
 },
 "nbformat": 4,
 "nbformat_minor": 2
}
