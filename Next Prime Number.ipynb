{
 "cells": [
  {
   "cell_type": "code",
   "execution_count": null,
   "metadata": {},
   "outputs": [],
   "source": [
    "#Next prime number\n",
    "#Have the program find prime numbers\n",
    "#until the user stop asking for the next one\n",
    "\n",
    "def is_prime(x):\n",
    "    \n",
    "    \n",
    "    if x == 2:\n",
    "        return True\n",
    "\n",
    "    if x % 2 == 0:\n",
    "        return False\n",
    "\n",
    "    for i in range(3, int(x**0.5)+1, 2):\n",
    "        if x % i == 0:\n",
    "            return False\n",
    "\n",
    "    return True\n",
    "\n",
    "def gen_prime(current_prime):\n",
    "    \n",
    "    new_prime = current_prime + 1\n",
    "    \n",
    "    while True:\n",
    "        \n",
    "        if not is_prime(new_prime):\n",
    "            new_prime += 1\n",
    "        else:\n",
    "            break\n",
    "    \n",
    "    return new_prime\n",
    "            \n",
    "def main():\n",
    "    \n",
    "    current_prime = 2\n",
    "    \n",
    "    while True:\n",
    "        \n",
    "        answer = input('Would you like to see the next prime? (Y/N) ')\n",
    "        \n",
    "        if answer.lower().startswith('y'):\n",
    "            print(current_prime)\n",
    "            current_prime = gen_prime(current_prime)\n",
    "            \n",
    "        else:\n",
    "            break\n",
    "            \n",
    "if __name__ == '__main__':\n",
    "    main()"
   ]
  }
 ],
 "metadata": {
  "kernelspec": {
   "display_name": "Python 3",
   "language": "python",
   "name": "python3"
  },
  "language_info": {
   "codemirror_mode": {
    "name": "ipython",
    "version": 3
   },
   "file_extension": ".py",
   "mimetype": "text/x-python",
   "name": "python",
   "nbconvert_exporter": "python",
   "pygments_lexer": "ipython3",
   "version": "3.7.3"
  }
 },
 "nbformat": 4,
 "nbformat_minor": 2
}
